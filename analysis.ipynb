{
 "cells": [
  {
   "cell_type": "markdown",
   "id": "dd6239cd",
   "metadata": {},
   "source": [
    "\n",
    "### GroupBy\n",
    "\n",
    "1. Compute the **total CO₂ emissions per continent** per year by joining `emissions` with `continents`.\n",
    "2. Find the **top 3 entities by average annual emissions** within each continent.\n",
    "3. For each continent, calculate the **percentage share of emissions** contributed by the top country vs. the rest for the year 2000.\n",
    "4. Within each continent, identify the **first and last year** emissions were reported and the difference between them.\n",
    "5. For each decade, compute the **mean, min, and max emissions** per continent.\n",
    "\n",
    "---\n",
    "\n",
    "### Custom `.apply`\n",
    "\n",
    "6. Write a function that returns a row’s **emission growth rate vs. the previous year** and apply it within each entity group.\n",
    "7. Within each continent group, apply a function that extracts the **entity with the largest single-year emission spike**.\n",
    "8. Apply a custom function to compute a **rolling 5-year average emissions** for each entity.\n",
    "9. Create a custom apply that flags whether an entity’s **emissions in a given year were above or below its long-term median**.\n",
    "10. For each continent, apply a function that computes a **dictionary of summary stats** (`min`, `max`, `range`, `std`) across all entities.\n",
    "\n",
    "---\n",
    "\n",
    "### Melt & Pivot\n",
    "\n",
    "11. Reshape the emissions dataset so that **years become columns** and emissions are values, with one row per entity.\n",
    "12. Melt the reshaped table back to **long format** and ensure it matches the original dataset.\n",
    "13. Pivot the data to show a **continent × year matrix**, with total emissions as values.\n",
    "14. Create a pivot table showing **average emissions per continent per decade**, then melt it back into tidy form.\n",
    "15. Make a wide table with **entities as rows and continents as columns**, where each value is that entity’s total emissions over all years.\n",
    "\n",
    "---\n"
   ]
  },
  {
   "cell_type": "code",
   "execution_count": 1,
   "id": "dd788bb4",
   "metadata": {},
   "outputs": [],
   "source": [
    "import pandas as pd "
   ]
  },
  {
   "cell_type": "code",
   "execution_count": null,
   "id": "274ea798",
   "metadata": {},
   "outputs": [],
   "source": [
    "emissions = pd.read_csv('annual-co-emissions-by-region.csv')\n",
    "continents = pd.read_csv('continents-according-to-our-world-in-data.csv')"
   ]
  },
  {
   "cell_type": "code",
   "execution_count": 9,
   "id": "69676e67",
   "metadata": {},
   "outputs": [
    {
     "name": "stdout",
     "output_type": "stream",
     "text": [
      "<class 'pandas.core.frame.DataFrame'>\n",
      "RangeIndex: 29137 entries, 0 to 29136\n",
      "Data columns (total 4 columns):\n",
      " #   Column                Non-Null Count  Dtype  \n",
      "---  ------                --------------  -----  \n",
      " 0   Entity                29137 non-null  object \n",
      " 1   Code                  23497 non-null  object \n",
      " 2   Year                  29137 non-null  int64  \n",
      " 3   Annual CO₂ emissions  29137 non-null  float64\n",
      "dtypes: float64(1), int64(1), object(2)\n",
      "memory usage: 910.7+ KB\n"
     ]
    },
    {
     "data": {
      "text/html": [
       "<div>\n",
       "<style scoped>\n",
       "    .dataframe tbody tr th:only-of-type {\n",
       "        vertical-align: middle;\n",
       "    }\n",
       "\n",
       "    .dataframe tbody tr th {\n",
       "        vertical-align: top;\n",
       "    }\n",
       "\n",
       "    .dataframe thead th {\n",
       "        text-align: right;\n",
       "    }\n",
       "</style>\n",
       "<table border=\"1\" class=\"dataframe\">\n",
       "  <thead>\n",
       "    <tr style=\"text-align: right;\">\n",
       "      <th></th>\n",
       "      <th>Entity</th>\n",
       "      <th>Code</th>\n",
       "      <th>Year</th>\n",
       "      <th>Annual CO₂ emissions</th>\n",
       "    </tr>\n",
       "  </thead>\n",
       "  <tbody>\n",
       "    <tr>\n",
       "      <th>0</th>\n",
       "      <td>Afghanistan</td>\n",
       "      <td>AFG</td>\n",
       "      <td>1949</td>\n",
       "      <td>14656.0</td>\n",
       "    </tr>\n",
       "    <tr>\n",
       "      <th>1</th>\n",
       "      <td>Afghanistan</td>\n",
       "      <td>AFG</td>\n",
       "      <td>1950</td>\n",
       "      <td>84272.0</td>\n",
       "    </tr>\n",
       "    <tr>\n",
       "      <th>2</th>\n",
       "      <td>Afghanistan</td>\n",
       "      <td>AFG</td>\n",
       "      <td>1951</td>\n",
       "      <td>91600.0</td>\n",
       "    </tr>\n",
       "    <tr>\n",
       "      <th>3</th>\n",
       "      <td>Afghanistan</td>\n",
       "      <td>AFG</td>\n",
       "      <td>1952</td>\n",
       "      <td>91600.0</td>\n",
       "    </tr>\n",
       "    <tr>\n",
       "      <th>4</th>\n",
       "      <td>Afghanistan</td>\n",
       "      <td>AFG</td>\n",
       "      <td>1953</td>\n",
       "      <td>106256.0</td>\n",
       "    </tr>\n",
       "  </tbody>\n",
       "</table>\n",
       "</div>"
      ],
      "text/plain": [
       "        Entity Code  Year  Annual CO₂ emissions\n",
       "0  Afghanistan  AFG  1949               14656.0\n",
       "1  Afghanistan  AFG  1950               84272.0\n",
       "2  Afghanistan  AFG  1951               91600.0\n",
       "3  Afghanistan  AFG  1952               91600.0\n",
       "4  Afghanistan  AFG  1953              106256.0"
      ]
     },
     "execution_count": 9,
     "metadata": {},
     "output_type": "execute_result"
    }
   ],
   "source": [
    "emissions.shape\n",
    "emissions.info()\n",
    "emissions.describe()\n",
    "emissions.columns\n",
    "emissions.head()"
   ]
  },
  {
   "cell_type": "code",
   "execution_count": null,
   "id": "449aa1d9",
   "metadata": {},
   "outputs": [],
   "source": []
  }
 ],
 "metadata": {
  "kernelspec": {
   "display_name": "Python 3",
   "language": "python",
   "name": "python3"
  },
  "language_info": {
   "codemirror_mode": {
    "name": "ipython",
    "version": 3
   },
   "file_extension": ".py",
   "mimetype": "text/x-python",
   "name": "python",
   "nbconvert_exporter": "python",
   "pygments_lexer": "ipython3",
   "version": "3.9.6"
  }
 },
 "nbformat": 4,
 "nbformat_minor": 5
}
